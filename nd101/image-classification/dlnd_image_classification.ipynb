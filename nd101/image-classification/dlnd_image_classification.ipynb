{
 "cells": [
  {
   "cell_type": "markdown",
   "metadata": {
    "collapsed": true
   },
   "source": [
    "# Image Classification\n",
    "In this project, you'll classify images from the [CIFAR-10 dataset](https://www.cs.toronto.edu/~kriz/cifar.html).  The dataset consists of airplanes, dogs, cats, and other objects. You'll preprocess the images, then train a convolutional neural network on all the samples. The images need to be normalized and the labels need to be one-hot encoded.  You'll get to apply what you learned and build a convolutional, max pooling, dropout, and fully connected layers.  At the end, you'll get to see your neural network's predictions on the sample images.\n",
    "## Get the Data\n",
    "Run the following cell to download the [CIFAR-10 dataset for python](https://www.cs.toronto.edu/~kriz/cifar-10-python.tar.gz)."
   ]
  },
  {
   "cell_type": "code",
   "execution_count": 32,
   "metadata": {
    "collapsed": false
   },
   "outputs": [
    {
     "name": "stdout",
     "output_type": "stream",
     "text": [
      "All files found!\n"
     ]
    }
   ],
   "source": [
    "\"\"\"\n",
    "DON'T MODIFY ANYTHING IN THIS CELL THAT IS BELOW THIS LINE\n",
    "\"\"\"\n",
    "from urllib.request import urlretrieve\n",
    "from os.path import isfile, isdir\n",
    "from tqdm import tqdm\n",
    "import problem_unittests as tests\n",
    "import tarfile\n",
    "\n",
    "cifar10_dataset_folder_path = 'cifar-10-batches-py'\n",
    "\n",
    "class DLProgress(tqdm):\n",
    "    last_block = 0\n",
    "\n",
    "    def hook(self, block_num=1, block_size=1, total_size=None):\n",
    "        self.total = total_size\n",
    "        self.update((block_num - self.last_block) * block_size)\n",
    "        self.last_block = block_num\n",
    "\n",
    "if not isfile('cifar-10-python.tar.gz'):\n",
    "    with DLProgress(unit='B', unit_scale=True, miniters=1, desc='CIFAR-10 Dataset') as pbar:\n",
    "        urlretrieve(\n",
    "            'https://www.cs.toronto.edu/~kriz/cifar-10-python.tar.gz',\n",
    "            'cifar-10-python.tar.gz',\n",
    "            pbar.hook)\n",
    "\n",
    "if not isdir(cifar10_dataset_folder_path):\n",
    "    with tarfile.open('cifar-10-python.tar.gz') as tar:\n",
    "        tar.extractall()\n",
    "        tar.close()\n",
    "\n",
    "\n",
    "tests.test_folder_path(cifar10_dataset_folder_path)"
   ]
  },
  {
   "cell_type": "markdown",
   "metadata": {},
   "source": [
    "## Explore the Data\n",
    "The dataset is broken into batches to prevent your machine from running out of memory.  The CIFAR-10 dataset consists of 5 batches, named `data_batch_1`, `data_batch_2`, etc.. Each batch contains the labels and images that are one of the following:\n",
    "* airplane\n",
    "* automobile\n",
    "* bird\n",
    "* cat\n",
    "* deer\n",
    "* dog\n",
    "* frog\n",
    "* horse\n",
    "* ship\n",
    "* truck\n",
    "\n",
    "Understanding a dataset is part of making predictions on the data.  Play around with the code cell below by changing the `batch_id` and `sample_id`. The `batch_id` is the id for a batch (1-5). The `sample_id` is the id for a image and label pair in the batch.\n",
    "\n",
    "Ask yourself \"What are all possible labels?\", \"What is the range of values for the image data?\", \"Are the labels in order or random?\".  Answers to questions like these will help you preprocess the data and end up with better predictions."
   ]
  },
  {
   "cell_type": "code",
   "execution_count": 33,
   "metadata": {
    "collapsed": false
   },
   "outputs": [
    {
     "name": "stdout",
     "output_type": "stream",
     "text": [
      "\n",
      "Stats of batch 1:\n",
      "Samples: 10000\n",
      "Label Counts: {0: 1005, 1: 974, 2: 1032, 3: 1016, 4: 999, 5: 937, 6: 1030, 7: 1001, 8: 1025, 9: 981}\n",
      "First 20 Labels: [6, 9, 9, 4, 1, 1, 2, 7, 8, 3, 4, 7, 7, 2, 9, 9, 9, 3, 2, 6]\n",
      "\n",
      "Example of Image 5:\n",
      "Image - Min Value: 0 Max Value: 252\n",
      "Image - Shape: (32, 32, 3)\n",
      "Label - Label Id: 1 Name: automobile\n"
     ]
    },
    {
     "data": {
      "image/png": "[encoded data removed]",
      "text/plain": [
       "<matplotlib.figure.Figure at 0x2d78c3dc630>"
      ]
     },
     "metadata": {
      "image/png": {
       "height": 250,
       "width": 253
      }
     },
     "output_type": "display_data"
    }
   ],
   "source": [
    "%matplotlib inline\n",
    "%config InlineBackend.figure_format = 'retina'\n",
    "\n",
    "import helper\n",
    "import numpy as np\n",
    "\n",
    "# Explore the dataset\n",
    "batch_id = 1\n",
    "sample_id = 5\n",
    "helper.display_stats(cifar10_dataset_folder_path, batch_id, sample_id)"
   ]
  },
  {
   "cell_type": "markdown",
   "metadata": {},
   "source": [
    "## Implement Preprocess Functions\n",
    "### Normalize\n",
    "In the cell below, implement the `normalize` function to take in image data, `x`, and return it as a normalized Numpy array. The values should be in the range of 0 to 1, inclusive.  The return object should be the same shape as `x`."
   ]
  },
  {
   "cell_type": "code",
   "execution_count": 34,
   "metadata": {
    "collapsed": false
   },
   "outputs": [
    {
     "name": "stdout",
     "output_type": "stream",
     "text": [
      "Tests Passed\n"
     ]
    }
   ],
   "source": [
    "def normalize(x):\n",
    "    \"\"\"\n",
    "    Normalize a list of sample image data in the range of 0 to 1\n",
    "    : x: List of image data.  The image shape is (32, 32, 3)\n",
    "    : return: Numpy array of normalize data\n",
    "    \"\"\"\n",
    "    # TODO: Implement Function\n",
    "    #_sum = np.sum(image,axis=2)[:, :, None]\n",
    "    x = x.astype('float32')\n",
    "    min_x = np.min(x)\n",
    "    max_x = np.max(x)\n",
    "    return (x - min_x)/(max_x - min_x)\n",
    "\n",
    "\"\"\"\n",
    "DON'T MODIFY ANYTHING IN THIS CELL THAT IS BELOW THIS LINE\n",
    "\"\"\"\n",
    "tests.test_normalize(normalize)"
   ]
  },
  {
   "cell_type": "markdown",
   "metadata": {},
   "source": [
    "### One-hot encode\n",
    "Just like the previous code cell, you'll be implementing a function for preprocessing.  This time, you'll implement the `one_hot_encode` function. The input, `x`, are a list of labels.  Implement the function to return the list of labels as One-Hot encoded Numpy array.  The possible values for labels are 0 to 9. The one-hot encoding function should return the same encoding for each value between each call to `one_hot_encode`.  Make sure to save the map of encodings outside the function.\n",
    "\n",
    "Hint: Don't reinvent the wheel."
   ]
  },
  {
   "cell_type": "code",
   "execution_count": 35,
   "metadata": {
    "collapsed": false
   },
   "outputs": [
    {
     "name": "stdout",
     "output_type": "stream",
     "text": [
      "Tests Passed\n"
     ]
    }
   ],
   "source": [
    "def one_hot_encode(x):\n",
    "    \"\"\"\n",
    "    One hot encode a list of sample labels. Return a one-hot encoded vector for each label.\n",
    "    : x: List of sample Labels\n",
    "    : return: Numpy array of one-hot encoded labels\n",
    "    \"\"\"\n",
    "    # TODO: Implement Function\n",
    "    return np.eye(10)[x]\n",
    "\n",
    "\n",
    "\"\"\"\n",
    "DON'T MODIFY ANYTHING IN THIS CELL THAT IS BELOW THIS LINE\n",
    "\"\"\"\n",
    "tests.test_one_hot_encode(one_hot_encode)"
   ]
  },
  {
   "cell_type": "markdown",
   "metadata": {},
   "source": [
    "### Randomize Data\n",
    "As you saw from exploring the data above, the order of the samples are randomized.  It doesn't hurt to randomize it again, but you don't need to for this dataset."
   ]
  },
  {
   "cell_type": "markdown",
   "metadata": {},
   "source": [
    "## Preprocess all the data and save it\n",
    "Running the code cell below will preprocess all the CIFAR-10 data and save it to file. The code below also uses 10% of the training data for validation."
   ]
  },
  {
   "cell_type": "code",
   "execution_count": 36,
   "metadata": {
    "collapsed": false
   },
   "outputs": [],
   "source": [
    "\"\"\"\n",
    "DON'T MODIFY ANYTHING IN THIS CELL\n",
    "\"\"\"\n",
    "# Preprocess Training, Validation, and Testing Data\n",
    "helper.preprocess_and_save_data(cifar10_dataset_folder_path, normalize, one_hot_encode)"
   ]
  },
  {
   "cell_type": "markdown",
   "metadata": {},
   "source": [
    "# Check Point\n",
    "This is your first checkpoint.  If you ever decide to come back to this notebook or have to restart the notebook, you can start from here.  The preprocessed data has been saved to disk."
   ]
  },
  {
   "cell_type": "code",
   "execution_count": 37,
   "metadata": {
    "collapsed": false
   },
   "outputs": [],
   "source": [
    "\"\"\"\n",
    "DON'T MODIFY ANYTHING IN THIS CELL\n",
    "\"\"\"\n",
    "import pickle\n",
    "import problem_unittests as tests\n",
    "import helper\n",
    "\n",
    "# Load the Preprocessed Validation data\n",
    "valid_features, valid_labels = pickle.load(open('preprocess_validation.p', mode='rb'))"
   ]
  },
  {
   "cell_type": "markdown",
   "metadata": {},
   "source": [
    "## Build the network\n",
    "For the neural network, you'll build each layer into a function.  Most of the code you've seen has been outside of functions. To test your code more thoroughly, we require that you put each layer in a function.  This allows us to give you better feedback and test for simple mistakes using our unittests before you submit your project.\n",
    "\n",
    ">**Note:** If you're finding it hard to dedicate enough time for this course each week, we've provided a small shortcut to this part of the project. In the next couple of problems, you'll have the option to use classes from the [TensorFlow Layers](https://www.tensorflow.org/api_docs/python/tf/layers) or [TensorFlow Layers (contrib)](https://www.tensorflow.org/api_guides/python/contrib.layers) packages to build each layer, except the layers you build in the \"Convolutional and Max Pooling Layer\" section.  TF Layers is similar to Keras's and TFLearn's abstraction to layers, so it's easy to pickup.\n",
    "\n",
    ">However, if you would like to get the most out of this course, try to solve all the problems _without_ using anything from the TF Layers packages. You **can** still use classes from other packages that happen to have the same name as ones you find in TF Layers! For example, instead of using the TF Layers version of the `conv2d` class, [tf.layers.conv2d](https://www.tensorflow.org/api_docs/python/tf/layers/conv2d), you would want to use the TF Neural Network version of `conv2d`, [tf.nn.conv2d](https://www.tensorflow.org/api_docs/python/tf/nn/conv2d). \n",
    "\n",
    "Let's begin!\n",
    "\n",
    "### Input\n",
    "The neural network needs to read the image data, one-hot encoded labels, and dropout keep probability. Implement the following functions\n",
    "* Implement `neural_net_image_input`\n",
    " * Return a [TF Placeholder](https://www.tensorflow.org/api_docs/python/tf/placeholder)\n",
    " * Set the shape using `image_shape` with batch size set to `None`.\n",
    " * Name the TensorFlow placeholder \"x\" using the TensorFlow `name` parameter in the [TF Placeholder](https://www.tensorflow.org/api_docs/python/tf/placeholder).\n",
    "* Implement `neural_net_label_input`\n",
    " * Return a [TF Placeholder](https://www.tensorflow.org/api_docs/python/tf/placeholder)\n",
    " * Set the shape using `n_classes` with batch size set to `None`.\n",
    " * Name the TensorFlow placeholder \"y\" using the TensorFlow `name` parameter in the [TF Placeholder](https://www.tensorflow.org/api_docs/python/tf/placeholder).\n",
    "* Implement `neural_net_keep_prob_input`\n",
    " * Return a [TF Placeholder](https://www.tensorflow.org/api_docs/python/tf/placeholder) for dropout keep probability.\n",
    " * Name the TensorFlow placeholder \"keep_prob\" using the TensorFlow `name` parameter in the [TF Placeholder](https://www.tensorflow.org/api_docs/python/tf/placeholder).\n",
    "\n",
    "These names will be used at the end of the project to load your saved model.\n",
    "\n",
    "Note: `None` for shapes in TensorFlow allow for a dynamic size."
   ]
  },
  {
   "cell_type": "code",
   "execution_count": 38,
   "metadata": {
    "collapsed": false
   },
   "outputs": [
    {
     "name": "stdout",
     "output_type": "stream",
     "text": [
      "Image Input Tests Passed.\n",
      "Label Input Tests Passed.\n",
      "Keep Prob Tests Passed.\n"
     ]
    }
   ],
   "source": [
    "import tensorflow as tf\n",
    "\n",
    "def neural_net_image_input(image_shape):\n",
    "    \"\"\"\n",
    "    Return a Tensor for a bach of image input\n",
    "    : image_shape: Shape of the images\n",
    "    : return: Tensor for image input.\n",
    "    \"\"\"\n",
    "    # TODO: Implement Function\n",
    "    return tf.placeholder(tf.float32, [None, *image_shape], name='x')\n",
    "\n",
    "\n",
    "def neural_net_label_input(n_classes):\n",
    "    \"\"\"\n",
    "    Return a Tensor for a batch of label input\n",
    "    : n_classes: Number of classes\n",
    "    : return: Tensor for label input.\n",
    "    \"\"\"\n",
    "    # TODO: Implement Function\n",
    "    return tf.placeholder(tf.float32, [None, n_classes], name='y')\n",
    "\n",
    "\n",
    "def neural_net_keep_prob_input():\n",
    "    \"\"\"\n",
    "    Return a Tensor for keep probability\n",
    "    : return: Tensor for keep probability.\n",
    "    \"\"\"\n",
    "    # TODO: Implement Function\n",
    "    return tf.placeholder(tf.float32, name='keep_prob')\n",
    "\n",
    "\n",
    "\"\"\"\n",
    "DON'T MODIFY ANYTHING IN THIS CELL THAT IS BELOW THIS LINE\n",
    "\"\"\"\n",
    "tf.reset_default_graph()\n",
    "tests.test_nn_image_inputs(neural_net_image_input)\n",
    "tests.test_nn_label_inputs(neural_net_label_input)\n",
    "tests.test_nn_keep_prob_inputs(neural_net_keep_prob_input)"
   ]
  },
  {
   "cell_type": "markdown",
   "metadata": {},
   "source": [
    "### Convolution and Max Pooling Layer\n",
    "Convolution layers have a lot of success with images. For this code cell, you should implement the function `conv2d_maxpool` to apply convolution then max pooling:\n",
    "* Create the weight and bias using `conv_ksize`, `conv_num_outputs` and the shape of `x_tensor`.\n",
    "* Apply a convolution to `x_tensor` using weight and `conv_strides`.\n",
    " * We recommend you use same padding, but you're welcome to use any padding.\n",
    "* Add bias\n",
    "* Add a nonlinear activation to the convolution.\n",
    "* Apply Max Pooling using `pool_ksize` and `pool_strides`.\n",
    " * We recommend you use same padding, but you're welcome to use any padding.\n",
    "\n",
    "**Note:** You **can't** use [TensorFlow Layers](https://www.tensorflow.org/api_docs/python/tf/layers) or [TensorFlow Layers (contrib)](https://www.tensorflow.org/api_guides/python/contrib.layers) for **this** layer, but you can still use TensorFlow's [Neural Network](https://www.tensorflow.org/api_docs/python/tf/nn) package. You may still use the shortcut option for all the **other** layers."
   ]
  },
  {
   "cell_type": "code",
   "execution_count": 39,
   "metadata": {
    "collapsed": false
   },
   "outputs": [
    {
     "name": "stdout",
     "output_type": "stream",
     "text": [
      "Tests Passed\n"
     ]
    }
   ],
   "source": [
    "def conv2d_maxpool(x_tensor, conv_num_outputs, conv_ksize, conv_strides, pool_ksize, pool_strides):\n",
    "    \"\"\"\n",
    "    Apply convolution then max pooling to x_tensor\n",
    "    :param x_tensor: TensorFlow Tensor\n",
    "    :param conv_num_outputs: Number of outputs for the convolutional layer\n",
    "    :param conv_ksize: kernal size 2-D Tuple for the convolutional layer\n",
    "    :param conv_strides: Stride 2-D Tuple for convolution\n",
    "    :param pool_ksize: kernal size 2-D Tuple for pool\n",
    "    :param pool_strides: Stride 2-D Tuple for pool\n",
    "    : return: A tensor that represents convolution and max pooling of x_tensor\n",
    "    \"\"\"\n",
    "    # TODO: Implement Function\n",
    "\n",
    "    # Convolution filter\n",
    "    filter_size_height = conv_ksize[0]\n",
    "    filter_size_width = conv_ksize[1]\n",
    "    channels = x_tensor.get_shape().as_list()[3]\n",
    "    \n",
    "    # Weight and bias\n",
    "    weight = tf.Variable(tf.truncated_normal([\n",
    "        filter_size_height,\n",
    "        filter_size_width,\n",
    "        channels,\n",
    "        conv_num_outputs],\n",
    "        mean=0.,\n",
    "        stddev=.1))\n",
    "    bias = tf.Variable(tf.zeros(conv_num_outputs))\n",
    "\n",
    "    # Apply Convolution\n",
    "    conv_layer = tf.nn.conv2d(x_tensor, weight, strides=[1, *conv_strides, 1], padding='SAME')\n",
    "    conv_layer = tf.nn.bias_add(conv_layer, bias)\n",
    "    conv_layer = tf.nn.relu(conv_layer)\n",
    "\n",
    "    # Apply Max Pooling\n",
    "    conv_layer = tf.nn.max_pool(\n",
    "        conv_layer,\n",
    "        ksize=[1, *pool_ksize, 1],\n",
    "        strides=[1, *pool_strides, 1],\n",
    "        padding='SAME')\n",
    "    \n",
    "    return conv_layer \n",
    "\n",
    "\"\"\"\n",
    "DON'T MODIFY ANYTHING IN THIS CELL THAT IS BELOW THIS LINE\n",
    "\"\"\"\n",
    "tests.test_con_pool(conv2d_maxpool)"
   ]
  },
  {
   "cell_type": "markdown",
   "metadata": {},
   "source": [
    "### Flatten Layer\n",
    "Implement the `flatten` function to change the dimension of `x_tensor` from a 4-D tensor to a 2-D tensor.  The output should be the shape (*Batch Size*, *Flattened Image Size*). Shortcut option: you can use classes from the [TensorFlow Layers](https://www.tensorflow.org/api_docs/python/tf/layers) or [TensorFlow Layers (contrib)](https://www.tensorflow.org/api_guides/python/contrib.layers) packages for this layer. For more of a challenge, only use other TensorFlow packages."
   ]
  },
  {
   "cell_type": "code",
   "execution_count": 40,
   "metadata": {
    "collapsed": false
   },
   "outputs": [
    {
     "name": "stdout",
     "output_type": "stream",
     "text": [
      "Tests Passed\n"
     ]
    }
   ],
   "source": [
    "def flatten(x_tensor):\n",
    "    \"\"\"\n",
    "    Flatten x_tensor to (Batch Size, Flattened Image Size)\n",
    "    : x_tensor: A tensor of size (Batch Size, ...), where ... are the image dimensions.\n",
    "    : return: A tensor of size (Batch Size, Flattened Image Size).\n",
    "    \"\"\"\n",
    "    # TODO: Implement Function\n",
    "    n_input = x_tensor.get_shape().as_list()[1:]\n",
    "    return tf.reshape(x_tensor, [-1, np.prod(n_input)])\n",
    "\n",
    "\"\"\"\n",
    "DON'T MODIFY ANYTHING IN THIS CELL THAT IS BELOW THIS LINE\n",
    "\"\"\"\n",
    "tests.test_flatten(flatten)"
   ]
  },
  {
   "cell_type": "markdown",
   "metadata": {},
   "source": [
    "### Fully-Connected Layer\n",
    "Implement the `fully_conn` function to apply a fully connected layer to `x_tensor` with the shape (*Batch Size*, *num_outputs*). Shortcut option: you can use classes from the [TensorFlow Layers](https://www.tensorflow.org/api_docs/python/tf/layers) or [TensorFlow Layers (contrib)](https://www.tensorflow.org/api_guides/python/contrib.layers) packages for this layer. For more of a challenge, only use other TensorFlow packages."
   ]
  },
  {
   "cell_type": "code",
   "execution_count": 41,
   "metadata": {
    "collapsed": false
   },
   "outputs": [
    {
     "name": "stdout",
     "output_type": "stream",
     "text": [
      "Tests Passed\n"
     ]
    }
   ],
   "source": [
    "def fully_conn(x_tensor, num_outputs):\n",
    "    \"\"\"\n",
    "    Apply a fully connected layer to x_tensor using weight and bias\n",
    "    : x_tensor: A 2-D tensor where the first dimension is batch size.\n",
    "    : num_outputs: The number of output that the new tensor should be.\n",
    "    : return: A 2-D tensor where the second dimension is num_outputs.\n",
    "    \"\"\"\n",
    "    # TODO: Implement Function\n",
    "\n",
    "    # Convolution filter\n",
    "    batch_size = x_tensor.get_shape().as_list()[1]\n",
    "    \n",
    "    # Weight and bias\n",
    "    weight = tf.Variable(tf.truncated_normal([\n",
    "        batch_size,\n",
    "        num_outputs],\n",
    "        mean=0.,\n",
    "        stddev=.1))\n",
    "    bias = tf.Variable(tf.zeros([num_outputs]))\n",
    "    \n",
    "    conv_layer = tf.nn.relu(tf.matmul(x_tensor, weight) + bias)\n",
    "    \n",
    "    return conv_layer\n",
    "\n",
    "\n",
    "\"\"\"\n",
    "DON'T MODIFY ANYTHING IN THIS CELL THAT IS BELOW THIS LINE\n",
    "\"\"\"\n",
    "tests.test_fully_conn(fully_conn)"
   ]
  },
  {
   "cell_type": "markdown",
   "metadata": {},
   "source": [
    "### Output Layer\n",
    "Implement the `output` function to apply a fully connected layer to `x_tensor` with the shape (*Batch Size*, *num_outputs*). Shortcut option: you can use classes from the [TensorFlow Layers](https://www.tensorflow.org/api_docs/python/tf/layers) or [TensorFlow Layers (contrib)](https://www.tensorflow.org/api_guides/python/contrib.layers) packages for this layer. For more of a challenge, only use other TensorFlow packages.\n",
    "\n",
    "**Note:** Activation, softmax, or cross entropy should **not** be applied to this."
   ]
  },
  {
   "cell_type": "code",
   "execution_count": 42,
   "metadata": {
    "collapsed": false
   },
   "outputs": [
    {
     "name": "stdout",
     "output_type": "stream",
     "text": [
      "Tests Passed\n"
     ]
    }
   ],
   "source": [
    "def output(x_tensor, num_outputs):\n",
    "    \"\"\"\n",
    "    Apply a output layer to x_tensor using weight and bias\n",
    "    : x_tensor: A 2-D tensor where the first dimension is batch size.\n",
    "    : num_outputs: The number of output that the new tensor should be.\n",
    "    : return: A 2-D tensor where the second dimension is num_outputs.\n",
    "    \"\"\"\n",
    "    # TODO: Implement Function\n",
    "    \n",
    "    # Convolution filter\n",
    "    batch_size = x_tensor.get_shape().as_list()[1]\n",
    "    \n",
    "    # Weight and bias\n",
    "    weight = tf.Variable(tf.truncated_normal([\n",
    "        batch_size,\n",
    "        num_outputs],\n",
    "        mean=0.,\n",
    "        stddev=.1))\n",
    "    bias = tf.Variable(tf.zeros([num_outputs]))\n",
    "    \n",
    "    conv_layer = tf.add(tf.matmul(x_tensor, weight), bias)\n",
    "    \n",
    "    return conv_layer\n",
    "\n",
    "\n",
    "\"\"\"\n",
    "DON'T MODIFY ANYTHING IN THIS CELL THAT IS BELOW THIS LINE\n",
    "\"\"\"\n",
    "tests.test_output(output)"
   ]
  },
  {
   "cell_type": "markdown",
   "metadata": {},
   "source": [
    "### Create Convolutional Model\n",
    "Implement the function `conv_net` to create a convolutional neural network model. The function takes in a batch of images, `x`, and outputs logits.  Use the layers you created above to create this model:\n",
    "\n",
    "* Apply 1, 2, or 3 Convolution and Max Pool layers\n",
    "* Apply a Flatten Layer\n",
    "* Apply 1, 2, or 3 Fully Connected Layers\n",
    "* Apply an Output Layer\n",
    "* Return the output\n",
    "* Apply [TensorFlow's Dropout](https://www.tensorflow.org/api_docs/python/tf/nn/dropout) to one or more layers in the model using `keep_prob`. "
   ]
  },
  {
   "cell_type": "code",
   "execution_count": 49,
   "metadata": {
    "collapsed": false
   },
   "outputs": [
    {
     "name": "stdout",
     "output_type": "stream",
     "text": [
      "Neural Network Built!\n"
     ]
    }
   ],
   "source": [
    "def conv_net(x, keep_prob):\n",
    "    \"\"\"\n",
    "    Create a convolutional neural network model\n",
    "    : x: Placeholder tensor that holds image data.\n",
    "    : keep_prob: Placeholder tensor that hold dropout keep probability.\n",
    "    : return: Tensor that represents logits\n",
    "    \"\"\"\n",
    "    # TODO: Apply 1, 2, or 3 Convolution and Max Pool layers\n",
    "    #    Play around with different number of outputs, kernel size and stride\n",
    "    # Function Definition from Above:\n",
    "    #    conv2d_maxpool(x_tensor, conv_num_outputs, conv_ksize, conv_strides, pool_ksize, pool_strides)\n",
    "    pass_1 = conv2d_maxpool(x, 10, (3,3), (1,1), (2,2), (2,2))\n",
    "    pass_2 = conv2d_maxpool(pass_1, 64, (3,3), (1,1), (2,2), (2,2))\n",
    "    pass_3 = conv2d_maxpool(pass_2, 128, (3,3), (1,1), (2,2), (2,2))\n",
    "\n",
    "    # TODO: Apply a Flatten Layer\n",
    "    # Function Definition from Above:\n",
    "    #   flatten(x_tensor)\n",
    "    flat_out = flatten(pass_3)\n",
    "\n",
    "    # TODO: Apply 1, 2, or 3 Fully Connected Layers\n",
    "    #    Play around with different number of outputs\n",
    "    # Function Definition from Above:\n",
    "    #   fully_conn(x_tensor, num_outputs)\n",
    "    ful_1 = fully_conn(flat_out, 128)\n",
    "    ful_1 = tf.layers.dropout(ful_1, keep_prob)\n",
    "    \n",
    "    ful_2 = fully_conn(ful_1, 64)\n",
    "    \n",
    "    # TODO: Apply an Output Layer\n",
    "    #    Set this to the number of classes\n",
    "    # Function Definition from Above:\n",
    "    #   output(x_tensor, num_outputs)\n",
    "    con_output = output(ful_2, 10)\n",
    "    \n",
    "    # TODO: return output\n",
    "    return con_output\n",
    "\n",
    "\n",
    "\"\"\"\n",
    "DON'T MODIFY ANYTHING IN THIS CELL THAT IS BELOW THIS LINE\n",
    "\"\"\"\n",
    "\n",
    "##############################\n",
    "## Build the Neural Network ##\n",
    "##############################\n",
    "\n",
    "# Remove previous weights, bias, inputs, etc..\n",
    "tf.reset_default_graph()\n",
    "\n",
    "# Inputs\n",
    "x = neural_net_image_input((32, 32, 3))\n",
    "y = neural_net_label_input(10)\n",
    "keep_prob = neural_net_keep_prob_input()\n",
    "\n",
    "# Model\n",
    "logits = conv_net(x, keep_prob)\n",
    "\n",
    "# Name logits Tensor, so that is can be loaded from disk after training\n",
    "logits = tf.identity(logits, name='logits')\n",
    "\n",
    "# Loss and Optimizer\n",
    "cost = tf.reduce_mean(tf.nn.softmax_cross_entropy_with_logits(logits=logits, labels=y))\n",
    "optimizer = tf.train.AdamOptimizer().minimize(cost)\n",
    "\n",
    "# Accuracy\n",
    "correct_pred = tf.equal(tf.argmax(logits, 1), tf.argmax(y, 1))\n",
    "accuracy = tf.reduce_mean(tf.cast(correct_pred, tf.float32), name='accuracy')\n",
    "\n",
    "tests.test_conv_net(conv_net)"
   ]
  },
  {
   "cell_type": "markdown",
   "metadata": {},
   "source": [
    "## Train the Neural Network\n",
    "### Single Optimization\n",
    "Implement the function `train_neural_network` to do a single optimization.  The optimization should use `optimizer` to optimize in `session` with a `feed_dict` of the following:\n",
    "* `x` for image input\n",
    "* `y` for labels\n",
    "* `keep_prob` for keep probability for dropout\n",
    "\n",
    "This function will be called for each batch, so `tf.global_variables_initializer()` has already been called.\n",
    "\n",
    "Note: Nothing needs to be returned. This function is only optimizing the neural network."
   ]
  },
  {
   "cell_type": "code",
   "execution_count": 50,
   "metadata": {
    "collapsed": false
   },
   "outputs": [
    {
     "name": "stdout",
     "output_type": "stream",
     "text": [
      "Tests Passed\n"
     ]
    }
   ],
   "source": [
    "def train_neural_network(session, optimizer, keep_probability, feature_batch, label_batch):\n",
    "    \"\"\"\n",
    "    Optimize the session on a batch of images and labels\n",
    "    : session: Current TensorFlow session\n",
    "    : optimizer: TensorFlow optimizer function\n",
    "    : keep_probability: keep probability\n",
    "    : feature_batch: Batch of Numpy image data\n",
    "    : label_batch: Batch of Numpy label data\n",
    "    \"\"\"\n",
    "    # TODO: Implement Function\n",
    "    session.run(optimizer, feed_dict={\n",
    "        x: feature_batch,\n",
    "        y: label_batch,\n",
    "        keep_prob: keep_probability})\n",
    "\n",
    "\n",
    "\"\"\"\n",
    "DON'T MODIFY ANYTHING IN THIS CELL THAT IS BELOW THIS LINE\n",
    "\"\"\"\n",
    "tests.test_train_nn(train_neural_network)"
   ]
  },
  {
   "cell_type": "markdown",
   "metadata": {},
   "source": [
    "### Show Stats\n",
    "Implement the function `print_stats` to print loss and validation accuracy.  Use the global variables `valid_features` and `valid_labels` to calculate validation accuracy.  Use a keep probability of `1.0` to calculate the loss and validation accuracy."
   ]
  },
  {
   "cell_type": "code",
   "execution_count": 51,
   "metadata": {
    "collapsed": false
   },
   "outputs": [],
   "source": [
    "def print_stats(session, feature_batch, label_batch, cost, accuracy):\n",
    "    \"\"\"\n",
    "    Print information about loss and validation accuracy\n",
    "    : session: Current TensorFlow session\n",
    "    : feature_batch: Batch of Numpy image data\n",
    "    : label_batch: Batch of Numpy label data\n",
    "    : cost: TensorFlow cost function\n",
    "    : accuracy: TensorFlow accuracy function\n",
    "    \"\"\"\n",
    "    # TODO: Implement Function\n",
    "    loss = sess.run(cost, feed_dict={\n",
    "        x: feature_batch,\n",
    "        y: label_batch,\n",
    "        keep_prob: 1.0})\n",
    "    \n",
    "    validation_accuracy = sess.run(accuracy, feed_dict={\n",
    "        x: valid_features,\n",
    "        y: valid_labels,\n",
    "        keep_prob: 1.0})\n",
    "    \n",
    "    print(loss, validation_accuracy)"
   ]
  },
  {
   "cell_type": "markdown",
   "metadata": {},
   "source": [
    "### Hyperparameters\n",
    "Tune the following parameters:\n",
    "* Set `epochs` to the number of iterations until the network stops learning or start overfitting\n",
    "* Set `batch_size` to the highest number that your machine has memory for.  Most people set them to common sizes of memory:\n",
    " * 64\n",
    " * 128\n",
    " * 256\n",
    " * ...\n",
    "* Set `keep_probability` to the probability of keeping a node using dropout"
   ]
  },
  {
   "cell_type": "code",
   "execution_count": 52,
   "metadata": {
    "collapsed": true
   },
   "outputs": [],
   "source": [
    "# TODO: Tune Parameters\n",
    "epochs = 50\n",
    "batch_size = 502\n",
    "keep_probability = 0.5"
   ]
  },
  {
   "cell_type": "markdown",
   "metadata": {},
   "source": [
    "### Train on a Single CIFAR-10 Batch\n",
    "Instead of training the neural network on all the CIFAR-10 batches of data, let's use a single batch. This should save time while you iterate on the model to get a better accuracy.  Once the final validation accuracy is 50% or greater, run the model on all the data in the next section."
   ]
  },
  {
   "cell_type": "code",
   "execution_count": 53,
   "metadata": {
    "collapsed": false
   },
   "outputs": [
    {
     "name": "stdout",
     "output_type": "stream",
     "text": [
      "Checking the Training on a Single Batch...\n",
      "Epoch  1, CIFAR-10 Batch 1:  2.06958 0.2672\n",
      "Epoch  2, CIFAR-10 Batch 1:  1.90006 0.3224\n",
      "Epoch  3, CIFAR-10 Batch 1:  1.75857 0.3778\n",
      "Epoch  4, CIFAR-10 Batch 1:  1.67405 0.4018\n",
      "Epoch  5, CIFAR-10 Batch 1:  1.58181 0.4314\n",
      "Epoch  6, CIFAR-10 Batch 1:  1.4927 0.463\n",
      "Epoch  7, CIFAR-10 Batch 1:  1.46127 0.467\n",
      "Epoch  8, CIFAR-10 Batch 1:  1.39258 0.489\n",
      "Epoch  9, CIFAR-10 Batch 1:  1.3521 0.5044\n",
      "Epoch 10, CIFAR-10 Batch 1:  1.30596 0.5086\n",
      "Epoch 11, CIFAR-10 Batch 1:  1.28049 0.5136\n",
      "Epoch 12, CIFAR-10 Batch 1:  1.24869 0.5234\n",
      "Epoch 13, CIFAR-10 Batch 1:  1.21287 0.5258\n",
      "Epoch 14, CIFAR-10 Batch 1:  1.1621 0.5414\n",
      "Epoch 15, CIFAR-10 Batch 1:  1.13144 0.5518\n",
      "Epoch 16, CIFAR-10 Batch 1:  1.09268 0.5524\n",
      "Epoch 17, CIFAR-10 Batch 1:  1.07554 0.5542\n",
      "Epoch 18, CIFAR-10 Batch 1:  1.03978 0.5564\n",
      "Epoch 19, CIFAR-10 Batch 1:  1.055 0.5376\n",
      "Epoch 20, CIFAR-10 Batch 1:  1.03584 0.5506\n",
      "Epoch 21, CIFAR-10 Batch 1:  0.960089 0.5596\n",
      "Epoch 22, CIFAR-10 Batch 1:  0.919996 0.5666\n",
      "Epoch 23, CIFAR-10 Batch 1:  0.885922 0.5704\n",
      "Epoch 24, CIFAR-10 Batch 1:  0.851916 0.573\n",
      "Epoch 25, CIFAR-10 Batch 1:  0.821196 0.5774\n",
      "Epoch 26, CIFAR-10 Batch 1:  0.79748 0.5776\n",
      "Epoch 27, CIFAR-10 Batch 1:  0.797276 0.5778\n",
      "Epoch 28, CIFAR-10 Batch 1:  0.867096 0.5512\n",
      "Epoch 29, CIFAR-10 Batch 1:  0.796622 0.5732\n",
      "Epoch 30, CIFAR-10 Batch 1:  0.830697 0.5556\n",
      "Epoch 31, CIFAR-10 Batch 1:  0.726792 0.5788\n",
      "Epoch 32, CIFAR-10 Batch 1:  0.739538 0.572\n",
      "Epoch 33, CIFAR-10 Batch 1:  0.694643 0.5824\n",
      "Epoch 34, CIFAR-10 Batch 1:  0.797359 0.5628\n",
      "Epoch 35, CIFAR-10 Batch 1:  0.633085 0.5902\n",
      "Epoch 36, CIFAR-10 Batch 1:  0.617162 0.6002\n",
      "Epoch 37, CIFAR-10 Batch 1:  0.64329 0.5868\n",
      "Epoch 38, CIFAR-10 Batch 1:  0.587808 0.5896\n",
      "Epoch 39, CIFAR-10 Batch 1:  0.564499 0.5876\n",
      "Epoch 40, CIFAR-10 Batch 1:  0.558751 0.581\n",
      "Epoch 41, CIFAR-10 Batch 1:  0.517485 0.5868\n",
      "Epoch 42, CIFAR-10 Batch 1:  0.49493 0.5908\n",
      "Epoch 43, CIFAR-10 Batch 1:  0.475774 0.589\n",
      "Epoch 44, CIFAR-10 Batch 1:  0.461695 0.5836\n",
      "Epoch 45, CIFAR-10 Batch 1:  0.447476 0.5794\n",
      "Epoch 46, CIFAR-10 Batch 1:  0.443125 0.5812\n",
      "Epoch 47, CIFAR-10 Batch 1:  0.454743 0.5726\n",
      "Epoch 48, CIFAR-10 Batch 1:  0.422616 0.5872\n",
      "Epoch 49, CIFAR-10 Batch 1:  0.380818 0.592\n",
      "Epoch 50, CIFAR-10 Batch 1:  0.431641 0.572\n"
     ]
    }
   ],
   "source": [
    "\"\"\"\n",
    "DON'T MODIFY ANYTHING IN THIS CELL\n",
    "\"\"\"\n",
    "print('Checking the Training on a Single Batch...')\n",
    "with tf.Session() as sess:\n",
    "    # Initializing the variables\n",
    "    sess.run(tf.global_variables_initializer())\n",
    "    \n",
    "    # Training cycle\n",
    "    for epoch in range(epochs):\n",
    "        batch_i = 1\n",
    "        for batch_features, batch_labels in helper.load_preprocess_training_batch(batch_i, batch_size):\n",
    "            train_neural_network(sess, optimizer, keep_probability, batch_features, batch_labels)\n",
    "        print('Epoch {:>2}, CIFAR-10 Batch {}:  '.format(epoch + 1, batch_i), end='')\n",
    "        print_stats(sess, batch_features, batch_labels, cost, accuracy)"
   ]
  },
  {
   "cell_type": "markdown",
   "metadata": {},
   "source": [
    "### Fully Train the Model\n",
    "Now that you got a good accuracy with a single CIFAR-10 batch, try it with all five batches."
   ]
  },
  {
   "cell_type": "code",
   "execution_count": 54,
   "metadata": {
    "collapsed": false
   },
   "outputs": [
    {
     "name": "stdout",
     "output_type": "stream",
     "text": [
      "Training...\n",
      "Epoch  1, CIFAR-10 Batch 1:  2.04862 0.2818\n",
      "Epoch  1, CIFAR-10 Batch 2:  1.865 0.324\n",
      "Epoch  1, CIFAR-10 Batch 3:  1.64578 0.3778\n",
      "Epoch  1, CIFAR-10 Batch 4:  1.57404 0.4134\n",
      "Epoch  1, CIFAR-10 Batch 5:  1.55385 0.4476\n",
      "Epoch  2, CIFAR-10 Batch 1:  1.56825 0.449\n",
      "Epoch  2, CIFAR-10 Batch 2:  1.4553 0.4762\n",
      "Epoch  2, CIFAR-10 Batch 3:  1.3539 0.4808\n",
      "Epoch  2, CIFAR-10 Batch 4:  1.32067 0.4962\n",
      "Epoch  2, CIFAR-10 Batch 5:  1.35774 0.4962\n",
      "Epoch  3, CIFAR-10 Batch 1:  1.44068 0.4992\n",
      "Epoch  3, CIFAR-10 Batch 2:  1.31333 0.5148\n",
      "Epoch  3, CIFAR-10 Batch 3:  1.24345 0.527\n",
      "Epoch  3, CIFAR-10 Batch 4:  1.18633 0.5496\n",
      "Epoch  3, CIFAR-10 Batch 5:  1.17709 0.5566\n",
      "Epoch  4, CIFAR-10 Batch 1:  1.25186 0.5536\n",
      "Epoch  4, CIFAR-10 Batch 2:  1.21157 0.5574\n",
      "Epoch  4, CIFAR-10 Batch 3:  1.14423 0.5568\n",
      "Epoch  4, CIFAR-10 Batch 4:  1.09837 0.5696\n",
      "Epoch  4, CIFAR-10 Batch 5:  1.07207 0.5872\n",
      "Epoch  5, CIFAR-10 Batch 1:  1.14782 0.5818\n",
      "Epoch  5, CIFAR-10 Batch 2:  1.11027 0.5896\n",
      "Epoch  5, CIFAR-10 Batch 3:  1.04193 0.5878\n",
      "Epoch  5, CIFAR-10 Batch 4:  1.02023 0.5882\n",
      "Epoch  5, CIFAR-10 Batch 5:  0.996893 0.6016\n",
      "Epoch  6, CIFAR-10 Batch 1:  1.07221 0.6012\n",
      "Epoch  6, CIFAR-10 Batch 2:  1.04566 0.6076\n",
      "Epoch  6, CIFAR-10 Batch 3:  0.97002 0.6074\n",
      "Epoch  6, CIFAR-10 Batch 4:  0.975187 0.6016\n",
      "Epoch  6, CIFAR-10 Batch 5:  0.924746 0.6182\n",
      "Epoch  7, CIFAR-10 Batch 1:  1.00919 0.6082\n",
      "Epoch  7, CIFAR-10 Batch 2:  0.995736 0.6182\n",
      "Epoch  7, CIFAR-10 Batch 3:  0.923327 0.6152\n",
      "Epoch  7, CIFAR-10 Batch 4:  0.906983 0.6332\n",
      "Epoch  7, CIFAR-10 Batch 5:  0.870421 0.6336\n",
      "Epoch  8, CIFAR-10 Batch 1:  0.967623 0.6208\n",
      "Epoch  8, CIFAR-10 Batch 2:  0.953903 0.6254\n",
      "Epoch  8, CIFAR-10 Batch 3:  0.908185 0.6254\n",
      "Epoch  8, CIFAR-10 Batch 4:  0.89156 0.6364\n",
      "Epoch  8, CIFAR-10 Batch 5:  0.838891 0.6392\n",
      "Epoch  9, CIFAR-10 Batch 1:  0.940909 0.6246\n",
      "Epoch  9, CIFAR-10 Batch 2:  0.895993 0.6336\n",
      "Epoch  9, CIFAR-10 Batch 3:  0.882769 0.6238\n",
      "Epoch  9, CIFAR-10 Batch 4:  0.837187 0.65\n",
      "Epoch  9, CIFAR-10 Batch 5:  0.79003 0.6546\n",
      "Epoch 10, CIFAR-10 Batch 1:  0.881236 0.652\n",
      "Epoch 10, CIFAR-10 Batch 2:  0.862325 0.6428\n",
      "Epoch 10, CIFAR-10 Batch 3:  0.831955 0.6398\n",
      "Epoch 10, CIFAR-10 Batch 4:  0.795448 0.655\n",
      "Epoch 10, CIFAR-10 Batch 5:  0.752897 0.661\n",
      "Epoch 11, CIFAR-10 Batch 1:  0.83317 0.667\n",
      "Epoch 11, CIFAR-10 Batch 2:  0.82365 0.651\n",
      "Epoch 11, CIFAR-10 Batch 3:  0.802687 0.6464\n",
      "Epoch 11, CIFAR-10 Batch 4:  0.757001 0.66\n",
      "Epoch 11, CIFAR-10 Batch 5:  0.716772 0.6654\n",
      "Epoch 12, CIFAR-10 Batch 1:  0.805172 0.6686\n",
      "Epoch 12, CIFAR-10 Batch 2:  0.801213 0.6596\n",
      "Epoch 12, CIFAR-10 Batch 3:  0.767816 0.6582\n",
      "Epoch 12, CIFAR-10 Batch 4:  0.716211 0.6628\n",
      "Epoch 12, CIFAR-10 Batch 5:  0.680468 0.6662\n",
      "Epoch 13, CIFAR-10 Batch 1:  0.793103 0.674\n",
      "Epoch 13, CIFAR-10 Batch 2:  0.784562 0.6566\n",
      "Epoch 13, CIFAR-10 Batch 3:  0.765938 0.6596\n",
      "Epoch 13, CIFAR-10 Batch 4:  0.669125 0.6698\n",
      "Epoch 13, CIFAR-10 Batch 5:  0.650628 0.67\n",
      "Epoch 14, CIFAR-10 Batch 1:  0.758422 0.6796\n",
      "Epoch 14, CIFAR-10 Batch 2:  0.762927 0.6526\n",
      "Epoch 14, CIFAR-10 Batch 3:  0.729347 0.6628\n",
      "Epoch 14, CIFAR-10 Batch 4:  0.629645 0.6806\n",
      "Epoch 14, CIFAR-10 Batch 5:  0.623654 0.6714\n",
      "Epoch 15, CIFAR-10 Batch 1:  0.729851 0.6852\n",
      "Epoch 15, CIFAR-10 Batch 2:  0.738759 0.652\n",
      "Epoch 15, CIFAR-10 Batch 3:  0.678824 0.6716\n",
      "Epoch 15, CIFAR-10 Batch 4:  0.608224 0.6846\n",
      "Epoch 15, CIFAR-10 Batch 5:  0.595694 0.6748\n",
      "Epoch 16, CIFAR-10 Batch 1:  0.708208 0.6876\n",
      "Epoch 16, CIFAR-10 Batch 2:  0.705442 0.6512\n",
      "Epoch 16, CIFAR-10 Batch 3:  0.652436 0.6736\n",
      "Epoch 16, CIFAR-10 Batch 4:  0.578913 0.6862\n",
      "Epoch 16, CIFAR-10 Batch 5:  0.559974 0.6766\n",
      "Epoch 17, CIFAR-10 Batch 1:  0.688795 0.6862\n",
      "Epoch 17, CIFAR-10 Batch 2:  0.674692 0.6556\n",
      "Epoch 17, CIFAR-10 Batch 3:  0.626826 0.6774\n",
      "Epoch 17, CIFAR-10 Batch 4:  0.549102 0.688\n",
      "Epoch 17, CIFAR-10 Batch 5:  0.536252 0.6784\n",
      "Epoch 18, CIFAR-10 Batch 1:  0.672473 0.6836\n",
      "Epoch 18, CIFAR-10 Batch 2:  0.645777 0.6652\n",
      "Epoch 18, CIFAR-10 Batch 3:  0.602934 0.6798\n",
      "Epoch 18, CIFAR-10 Batch 4:  0.527849 0.684\n",
      "Epoch 18, CIFAR-10 Batch 5:  0.530641 0.6696\n",
      "Epoch 19, CIFAR-10 Batch 1:  0.660863 0.6854\n",
      "Epoch 19, CIFAR-10 Batch 2:  0.636337 0.6632\n",
      "Epoch 19, CIFAR-10 Batch 3:  0.563705 0.69\n",
      "Epoch 19, CIFAR-10 Batch 4:  0.533016 0.6748\n",
      "Epoch 19, CIFAR-10 Batch 5:  0.470526 0.6806\n",
      "Epoch 20, CIFAR-10 Batch 1:  0.679938 0.6822\n",
      "Epoch 20, CIFAR-10 Batch 2:  0.638136 0.6462\n",
      "Epoch 20, CIFAR-10 Batch 3:  0.581263 0.6774\n",
      "Epoch 20, CIFAR-10 Batch 4:  0.499916 0.6836\n",
      "Epoch 20, CIFAR-10 Batch 5:  0.490037 0.6726\n",
      "Epoch 21, CIFAR-10 Batch 1:  0.635409 0.6748\n",
      "Epoch 21, CIFAR-10 Batch 2:  0.653791 0.6444\n",
      "Epoch 21, CIFAR-10 Batch 3:  0.589958 0.6672\n",
      "Epoch 21, CIFAR-10 Batch 4:  0.481797 0.691\n",
      "Epoch 21, CIFAR-10 Batch 5:  0.456796 0.6882\n",
      "Epoch 22, CIFAR-10 Batch 1:  0.655972 0.655\n",
      "Epoch 22, CIFAR-10 Batch 2:  0.587608 0.659\n",
      "Epoch 22, CIFAR-10 Batch 3:  0.560685 0.6784\n",
      "Epoch 22, CIFAR-10 Batch 4:  0.470067 0.6858\n",
      "Epoch 22, CIFAR-10 Batch 5:  0.408399 0.6896\n",
      "Epoch 23, CIFAR-10 Batch 1:  0.654036 0.6516\n",
      "Epoch 23, CIFAR-10 Batch 2:  0.569389 0.6728\n",
      "Epoch 23, CIFAR-10 Batch 3:  0.502773 0.6908\n",
      "Epoch 23, CIFAR-10 Batch 4:  0.411157 0.6974\n",
      "Epoch 23, CIFAR-10 Batch 5:  0.363615 0.6956\n",
      "Epoch 24, CIFAR-10 Batch 1:  0.63301 0.6466\n",
      "Epoch 24, CIFAR-10 Batch 2:  0.527826 0.6758\n",
      "Epoch 24, CIFAR-10 Batch 3:  0.472204 0.6908\n",
      "Epoch 24, CIFAR-10 Batch 4:  0.389385 0.697\n",
      "Epoch 24, CIFAR-10 Batch 5:  0.341053 0.6934\n",
      "Epoch 25, CIFAR-10 Batch 1:  0.564118 0.6632\n",
      "Epoch 25, CIFAR-10 Batch 2:  0.491783 0.675\n",
      "Epoch 25, CIFAR-10 Batch 3:  0.453949 0.6892\n",
      "Epoch 25, CIFAR-10 Batch 4:  0.376221 0.692\n",
      "Epoch 25, CIFAR-10 Batch 5:  0.314075 0.692\n",
      "Epoch 26, CIFAR-10 Batch 1:  0.546527 0.6658\n",
      "Epoch 26, CIFAR-10 Batch 2:  0.463736 0.6724\n",
      "Epoch 26, CIFAR-10 Batch 3:  0.447744 0.686\n",
      "Epoch 26, CIFAR-10 Batch 4:  0.361637 0.6934\n",
      "Epoch 26, CIFAR-10 Batch 5:  0.284841 0.6956\n",
      "Epoch 27, CIFAR-10 Batch 1:  0.510534 0.67\n",
      "Epoch 27, CIFAR-10 Batch 2:  0.453365 0.6696\n",
      "Epoch 27, CIFAR-10 Batch 3:  0.463022 0.6824\n",
      "Epoch 27, CIFAR-10 Batch 4:  0.33787 0.6976\n",
      "Epoch 27, CIFAR-10 Batch 5:  0.273819 0.691\n",
      "Epoch 28, CIFAR-10 Batch 1:  0.503635 0.664\n",
      "Epoch 28, CIFAR-10 Batch 2:  0.465677 0.649\n",
      "Epoch 28, CIFAR-10 Batch 3:  0.466008 0.6774\n",
      "Epoch 28, CIFAR-10 Batch 4:  0.349383 0.6886\n",
      "Epoch 28, CIFAR-10 Batch 5:  0.274008 0.683\n",
      "Epoch 29, CIFAR-10 Batch 1:  0.513595 0.654\n",
      "Epoch 29, CIFAR-10 Batch 2:  0.450584 0.6506\n",
      "Epoch 29, CIFAR-10 Batch 3:  0.468792 0.6696\n",
      "Epoch 29, CIFAR-10 Batch 4:  0.358972 0.6772\n",
      "Epoch 29, CIFAR-10 Batch 5:  0.293676 0.6804\n",
      "Epoch 30, CIFAR-10 Batch 1:  0.482914 0.6616\n",
      "Epoch 30, CIFAR-10 Batch 2:  0.446638 0.6434\n",
      "Epoch 30, CIFAR-10 Batch 3:  0.429491 0.678\n",
      "Epoch 30, CIFAR-10 Batch 4:  0.323836 0.6826\n",
      "Epoch 30, CIFAR-10 Batch 5:  0.259964 0.6902\n",
      "Epoch 31, CIFAR-10 Batch 1:  0.573196 0.6368\n",
      "Epoch 31, CIFAR-10 Batch 2:  0.536062 0.6416\n",
      "Epoch 31, CIFAR-10 Batch 3:  0.413631 0.6764\n",
      "Epoch 31, CIFAR-10 Batch 4:  0.354525 0.669\n",
      "Epoch 31, CIFAR-10 Batch 5:  0.25741 0.6806\n",
      "Epoch 32, CIFAR-10 Batch 1:  0.427262 0.6712\n",
      "Epoch 32, CIFAR-10 Batch 2:  0.550569 0.6444\n",
      "Epoch 32, CIFAR-10 Batch 3:  0.412914 0.6714\n",
      "Epoch 32, CIFAR-10 Batch 4:  0.356215 0.6648\n",
      "Epoch 32, CIFAR-10 Batch 5:  0.301714 0.6682\n",
      "Epoch 33, CIFAR-10 Batch 1:  0.374174 0.6808\n",
      "Epoch 33, CIFAR-10 Batch 2:  0.508531 0.626\n",
      "Epoch 33, CIFAR-10 Batch 3:  0.399383 0.6766\n",
      "Epoch 33, CIFAR-10 Batch 4:  0.31603 0.6718\n",
      "Epoch 33, CIFAR-10 Batch 5:  0.2832 0.6724\n",
      "Epoch 34, CIFAR-10 Batch 1:  0.41683 0.6654\n",
      "Epoch 34, CIFAR-10 Batch 2:  0.423588 0.6446\n",
      "Epoch 34, CIFAR-10 Batch 3:  0.426472 0.6648\n",
      "Epoch 34, CIFAR-10 Batch 4:  0.376727 0.6634\n",
      "Epoch 34, CIFAR-10 Batch 5:  0.276155 0.6688\n",
      "Epoch 35, CIFAR-10 Batch 1:  0.341182 0.6828\n",
      "Epoch 35, CIFAR-10 Batch 2:  0.372207 0.6664\n",
      "Epoch 35, CIFAR-10 Batch 3:  0.418727 0.6724\n",
      "Epoch 35, CIFAR-10 Batch 4:  0.356044 0.6644\n",
      "Epoch 35, CIFAR-10 Batch 5:  0.250932 0.6808\n",
      "Epoch 36, CIFAR-10 Batch 1:  0.319656 0.6868\n",
      "Epoch 36, CIFAR-10 Batch 2:  0.351629 0.6718\n",
      "Epoch 36, CIFAR-10 Batch 3:  0.374709 0.6786\n",
      "Epoch 36, CIFAR-10 Batch 4:  0.32124 0.668\n",
      "Epoch 36, CIFAR-10 Batch 5:  0.248134 0.6728\n",
      "Epoch 37, CIFAR-10 Batch 1:  0.39839 0.6732\n",
      "Epoch 37, CIFAR-10 Batch 2:  0.369714 0.6698\n",
      "Epoch 37, CIFAR-10 Batch 3:  0.308535 0.682\n",
      "Epoch 37, CIFAR-10 Batch 4:  0.28139 0.6832\n",
      "Epoch 37, CIFAR-10 Batch 5:  0.233722 0.671\n",
      "Epoch 38, CIFAR-10 Batch 1:  0.381053 0.6622\n",
      "Epoch 38, CIFAR-10 Batch 2:  0.357477 0.6554\n",
      "Epoch 38, CIFAR-10 Batch 3:  0.292536 0.6794\n",
      "Epoch 38, CIFAR-10 Batch 4:  0.269563 0.6748\n",
      "Epoch 38, CIFAR-10 Batch 5:  0.19061 0.6748\n",
      "Epoch 39, CIFAR-10 Batch 1:  0.321579 0.6638\n",
      "Epoch 39, CIFAR-10 Batch 2:  0.309272 0.6626\n",
      "Epoch 39, CIFAR-10 Batch 3:  0.270761 0.6854\n",
      "Epoch 39, CIFAR-10 Batch 4:  0.241693 0.672\n",
      "Epoch 39, CIFAR-10 Batch 5:  0.20282 0.6714\n",
      "Epoch 40, CIFAR-10 Batch 1:  0.297625 0.6648\n",
      "Epoch 40, CIFAR-10 Batch 2:  0.26512 0.6778\n",
      "Epoch 40, CIFAR-10 Batch 3:  0.219669 0.6888\n",
      "Epoch 40, CIFAR-10 Batch 4:  0.233431 0.6668\n",
      "Epoch 40, CIFAR-10 Batch 5:  0.218121 0.6688\n",
      "Epoch 41, CIFAR-10 Batch 1:  0.307563 0.6598\n",
      "Epoch 41, CIFAR-10 Batch 2:  0.295264 0.6664\n",
      "Epoch 41, CIFAR-10 Batch 3:  0.227689 0.6784\n",
      "Epoch 41, CIFAR-10 Batch 4:  0.258175 0.654\n",
      "Epoch 41, CIFAR-10 Batch 5:  0.229638 0.6664\n",
      "Epoch 42, CIFAR-10 Batch 1:  0.284613 0.6614\n",
      "Epoch 42, CIFAR-10 Batch 2:  0.338703 0.6526\n",
      "Epoch 42, CIFAR-10 Batch 3:  0.220456 0.6746\n",
      "Epoch 42, CIFAR-10 Batch 4:  0.214875 0.6596\n",
      "Epoch 42, CIFAR-10 Batch 5:  0.23528 0.6558\n",
      "Epoch 43, CIFAR-10 Batch 1:  0.378059 0.6346\n",
      "Epoch 43, CIFAR-10 Batch 2:  0.32516 0.659\n",
      "Epoch 43, CIFAR-10 Batch 3:  0.293953 0.6584\n",
      "Epoch 43, CIFAR-10 Batch 4:  0.255658 0.6474\n",
      "Epoch 43, CIFAR-10 Batch 5:  0.173287 0.6742\n",
      "Epoch 44, CIFAR-10 Batch 1:  0.277509 0.6606\n",
      "Epoch 44, CIFAR-10 Batch 2:  0.296702 0.6594\n",
      "Epoch 44, CIFAR-10 Batch 3:  0.215531 0.6706\n",
      "Epoch 44, CIFAR-10 Batch 4:  0.200807 0.6628\n",
      "Epoch 44, CIFAR-10 Batch 5:  0.197326 0.6744\n",
      "Epoch 45, CIFAR-10 Batch 1:  0.21091 0.6716\n",
      "Epoch 45, CIFAR-10 Batch 2:  0.295109 0.6544\n",
      "Epoch 45, CIFAR-10 Batch 3:  0.198253 0.677\n",
      "Epoch 45, CIFAR-10 Batch 4:  0.188699 0.6702\n",
      "Epoch 45, CIFAR-10 Batch 5:  0.139256 0.6764\n",
      "Epoch 46, CIFAR-10 Batch 1:  0.23651 0.6642\n",
      "Epoch 46, CIFAR-10 Batch 2:  0.242793 0.6596\n",
      "Epoch 46, CIFAR-10 Batch 3:  0.191953 0.6742\n",
      "Epoch 46, CIFAR-10 Batch 4:  0.208921 0.6518\n",
      "Epoch 46, CIFAR-10 Batch 5:  0.113032 0.6812\n",
      "Epoch 47, CIFAR-10 Batch 1:  0.241018 0.6634\n",
      "Epoch 47, CIFAR-10 Batch 2:  0.175321 0.6736\n",
      "Epoch 47, CIFAR-10 Batch 3:  0.208488 0.665\n",
      "Epoch 47, CIFAR-10 Batch 4:  0.207761 0.6436\n",
      "Epoch 47, CIFAR-10 Batch 5:  0.112977 0.6698\n",
      "Epoch 48, CIFAR-10 Batch 1:  0.245881 0.6622\n",
      "Epoch 48, CIFAR-10 Batch 2:  0.176917 0.676\n",
      "Epoch 48, CIFAR-10 Batch 3:  0.171298 0.678\n",
      "Epoch 48, CIFAR-10 Batch 4:  0.147777 0.662\n",
      "Epoch 48, CIFAR-10 Batch 5:  0.131558 0.673\n",
      "Epoch 49, CIFAR-10 Batch 1:  0.217973 0.6644\n",
      "Epoch 49, CIFAR-10 Batch 2:  0.188831 0.673\n",
      "Epoch 49, CIFAR-10 Batch 3:  0.1738 0.6782\n",
      "Epoch 49, CIFAR-10 Batch 4:  0.12056 0.6778\n",
      "Epoch 49, CIFAR-10 Batch 5:  0.127478 0.6634\n",
      "Epoch 50, CIFAR-10 Batch 1:  0.232589 0.6566\n",
      "Epoch 50, CIFAR-10 Batch 2:  0.17857 0.664\n",
      "Epoch 50, CIFAR-10 Batch 3:  0.198432 0.6738\n",
      "Epoch 50, CIFAR-10 Batch 4:  0.164436 0.6616\n",
      "Epoch 50, CIFAR-10 Batch 5:  0.122784 0.668\n"
     ]
    }
   ],
   "source": [
    "\"\"\"\n",
    "DON'T MODIFY ANYTHING IN THIS CELL\n",
    "\"\"\"\n",
    "save_model_path = './image_classification'\n",
    "\n",
    "print('Training...')\n",
    "with tf.Session() as sess:\n",
    "    # Initializing the variables\n",
    "    sess.run(tf.global_variables_initializer())\n",
    "    \n",
    "    # Training cycle\n",
    "    for epoch in range(epochs):\n",
    "        # Loop over all batches\n",
    "        n_batches = 5\n",
    "        for batch_i in range(1, n_batches + 1):\n",
    "            for batch_features, batch_labels in helper.load_preprocess_training_batch(batch_i, batch_size):\n",
    "                train_neural_network(sess, optimizer, keep_probability, batch_features, batch_labels)\n",
    "            print('Epoch {:>2}, CIFAR-10 Batch {}:  '.format(epoch + 1, batch_i), end='')\n",
    "            print_stats(sess, batch_features, batch_labels, cost, accuracy)\n",
    "            \n",
    "    # Save Model\n",
    "    saver = tf.train.Saver()\n",
    "    save_path = saver.save(sess, save_model_path)"
   ]
  },
  {
   "cell_type": "markdown",
   "metadata": {},
   "source": [
    "# Checkpoint\n",
    "The model has been saved to disk.\n",
    "## Test Model\n",
    "Test your model against the test dataset.  This will be your final accuracy. You should have an accuracy greater than 50%. If you don't, keep tweaking the model architecture and parameters."
   ]
  },
  {
   "cell_type": "code",
   "execution_count": 55,
   "metadata": {
    "collapsed": false
   },
   "outputs": [
    {
     "name": "stdout",
     "output_type": "stream",
     "text": [
      "Testing Accuracy: 0.6635471045970917\n",
      "\n"
     ]
    },
    {
     "data": {
      "image/png": "[encoded data removed]",
      "text/plain": [
       "<matplotlib.figure.Figure at 0x2d78fc0f710>"
      ]
     },
     "metadata": {
      "image/png": {
       "height": 319,
       "width": 355
      }
     },
     "output_type": "display_data"
    }
   ],
   "source": [
    "\"\"\"\n",
    "DON'T MODIFY ANYTHING IN THIS CELL\n",
    "\"\"\"\n",
    "%matplotlib inline\n",
    "%config InlineBackend.figure_format = 'retina'\n",
    "\n",
    "import tensorflow as tf\n",
    "import pickle\n",
    "import helper\n",
    "import random\n",
    "\n",
    "# Set batch size if not already set\n",
    "try:\n",
    "    if batch_size:\n",
    "        pass\n",
    "except NameError:\n",
    "    batch_size = 64\n",
    "\n",
    "save_model_path = './image_classification'\n",
    "n_samples = 4\n",
    "top_n_predictions = 3\n",
    "\n",
    "def test_model():\n",
    "    \"\"\"\n",
    "    Test the saved model against the test dataset\n",
    "    \"\"\"\n",
    "\n",
    "    test_features, test_labels = pickle.load(open('preprocess_training.p', mode='rb'))\n",
    "    loaded_graph = tf.Graph()\n",
    "\n",
    "    with tf.Session(graph=loaded_graph) as sess:\n",
    "        # Load model\n",
    "        loader = tf.train.import_meta_graph(save_model_path + '.meta')\n",
    "        loader.restore(sess, save_model_path)\n",
    "\n",
    "        # Get Tensors from loaded model\n",
    "        loaded_x = loaded_graph.get_tensor_by_name('x:0')\n",
    "        loaded_y = loaded_graph.get_tensor_by_name('y:0')\n",
    "        loaded_keep_prob = loaded_graph.get_tensor_by_name('keep_prob:0')\n",
    "        loaded_logits = loaded_graph.get_tensor_by_name('logits:0')\n",
    "        loaded_acc = loaded_graph.get_tensor_by_name('accuracy:0')\n",
    "        \n",
    "        # Get accuracy in batches for memory limitations\n",
    "        test_batch_acc_total = 0\n",
    "        test_batch_count = 0\n",
    "        \n",
    "        for train_feature_batch, train_label_batch in helper.batch_features_labels(test_features, test_labels, batch_size):\n",
    "            test_batch_acc_total += sess.run(\n",
    "                loaded_acc,\n",
    "                feed_dict={loaded_x: train_feature_batch, loaded_y: train_label_batch, loaded_keep_prob: 1.0})\n",
    "            test_batch_count += 1\n",
    "\n",
    "        print('Testing Accuracy: {}\\n'.format(test_batch_acc_total/test_batch_count))\n",
    "\n",
    "        # Print Random Samples\n",
    "        random_test_features, random_test_labels = tuple(zip(*random.sample(list(zip(test_features, test_labels)), n_samples)))\n",
    "        random_test_predictions = sess.run(\n",
    "            tf.nn.top_k(tf.nn.softmax(loaded_logits), top_n_predictions),\n",
    "            feed_dict={loaded_x: random_test_features, loaded_y: random_test_labels, loaded_keep_prob: 1.0})\n",
    "        helper.display_image_predictions(random_test_features, random_test_labels, random_test_predictions)\n",
    "\n",
    "\n",
    "test_model()"
   ]
  },
  {
   "cell_type": "markdown",
   "metadata": {},
   "source": [
    "## Why 50-70% Accuracy?\n",
    "You might be wondering why you can't get an accuracy any higher. First things first, 50% isn't bad for a simple CNN.  Pure guessing would get you 10% accuracy. However, you might notice people are getting scores [well above 70%](http://rodrigob.github.io/are_we_there_yet/build/classification_datasets_results.html#43494641522d3130).  That's because we haven't taught you all there is to know about neural networks. We still need to cover a few more techniques.\n",
    "## Submitting This Project\n",
    "When submitting this project, make sure to run all the cells before saving the notebook.  Save the notebook file as \"dlnd_image_classification.ipynb\" and save it as a HTML file under \"File\" -> \"Download as\".  Include the \"helper.py\" and \"problem_unittests.py\" files in your submission."
   ]
  }
 ],
 "metadata": {
  "kernelspec": {
   "display_name": "Python [default]",
   "language": "python",
   "name": "python3"
  },
  "language_info": {
   "codemirror_mode": {
    "name": "ipython",
    "version": 3
   },
   "file_extension": ".py",
   "mimetype": "text/x-python",
   "name": "python",
   "nbconvert_exporter": "python",
   "pygments_lexer": "ipython3",
   "version": "3.5.2"
  }
 },
 "nbformat": 4,
 "nbformat_minor": 0
}
